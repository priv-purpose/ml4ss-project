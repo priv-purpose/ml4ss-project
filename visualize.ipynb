{
 "cells": [
  {
   "cell_type": "code",
   "execution_count": 10,
   "metadata": {},
   "outputs": [],
   "source": [
    "import datetime\n",
    "import _pickle as pickle\n",
    "import plotly.graph_objs as go\n",
    "from plotly.offline import download_plotlyjs, init_notebook_mode, iplot\n",
    "from collections import defaultdict\n",
    "\n",
    "from Components import Comment, Post, POSPost, POSComment\n",
    "from Models import MyDictionary, MyTfidf, MyLda\n",
    "from helper import load_v1, load_v2"
   ]
  },
  {
   "cell_type": "markdown",
   "metadata": {},
   "source": [
    "## Initialization"
   ]
  },
  {
   "cell_type": "code",
   "execution_count": 12,
   "metadata": {},
   "outputs": [
    {
     "data": {
      "text/html": [
       "        <script type=\"text/javascript\">\n",
       "        window.PlotlyConfig = {MathJaxConfig: 'local'};\n",
       "        if (window.MathJax) {MathJax.Hub.Config({SVG: {font: \"STIX-Web\"}});}\n",
       "        if (typeof require !== 'undefined') {\n",
       "        require.undef(\"plotly\");\n",
       "        requirejs.config({\n",
       "            paths: {\n",
       "                'plotly': ['https://cdn.plot.ly/plotly-latest.min']\n",
       "            }\n",
       "        });\n",
       "        require(['plotly'], function(Plotly) {\n",
       "            window._Plotly = Plotly;\n",
       "        });\n",
       "        }\n",
       "        </script>\n",
       "        "
      ]
     },
     "metadata": {},
     "output_type": "display_data"
    }
   ],
   "source": [
    "init_notebook_mode(connected=True)"
   ]
  },
  {
   "cell_type": "code",
   "execution_count": 59,
   "metadata": {},
   "outputs": [
    {
     "name": "stdout",
     "output_type": "stream",
     "text": [
      "- Loaded v1: 18570\n"
     ]
    }
   ],
   "source": [
    "tfidf = pickle.load(open('models/tfidf/400_t_d1t', 'rb'))"
   ]
  },
  {
   "cell_type": "code",
   "execution_count": 60,
   "metadata": {},
   "outputs": [
    {
     "name": "stdout",
     "output_type": "stream",
     "text": [
      "- Loaded v1: 18570\n"
     ]
    }
   ],
   "source": [
    "v1 = load_v1()"
   ]
  },
  {
   "cell_type": "markdown",
   "metadata": {},
   "source": [
    "## Define functions"
   ]
  },
  {
   "cell_type": "code",
   "execution_count": 15,
   "metadata": {},
   "outputs": [],
   "source": [
    "# Plot time series for a single cluster\n",
    "def plot_time_series(cluster, tfidf, v1):\n",
    "    ids = tfidf.cluster2ids[cluster]\n",
    "    ids.sort(key=lambda i: v1[i].date)\n",
    "    \n",
    "    counts = defaultdict(int)\n",
    "    for i in ids:\n",
    "        date = v1[i].date\n",
    "        string = \"{}-{}\".format(date.year, date.month)\n",
    "        counts[string] += 1\n",
    "\n",
    "    data = [go.Scatter(x=list(counts.keys()), y=list(counts.values()))]\n",
    "\n",
    "    iplot(data)"
   ]
  },
  {
   "cell_type": "code",
   "execution_count": 38,
   "metadata": {},
   "outputs": [],
   "source": [
    "# Given a list of queries, find clusters that contain it as a keyword\n",
    "def find_clusters(queries, tfidf):\n",
    "    results = []\n",
    "    for cluster in tfidf.cluster2ids.keys():\n",
    "        keywords = [keyword for keyword, _ in tfidf.get_cluster_keywords(cluster)[:20]]\n",
    "        if any([query in keywords for query in queries]):\n",
    "            results.append((cluster, keywords))\n",
    "    return results"
   ]
  },
  {
   "cell_type": "markdown",
   "metadata": {},
   "source": [
    "## Experiments"
   ]
  },
  {
   "cell_type": "code",
   "execution_count": 61,
   "metadata": {},
   "outputs": [
    {
     "data": {
      "application/vnd.plotly.v1+json": {
       "config": {
        "linkText": "Export to plot.ly",
        "plotlyServerURL": "https://plot.ly",
        "showLink": false
       },
       "data": [
        {
         "type": "scatter",
         "uid": "9a44d79f-c174-4d44-9a3b-c3fedf49ee2f",
         "x": [
          "2017-08",
          "2017-09",
          "2017-10",
          "2017-11",
          "2017-12",
          "2018-01",
          "2018-02",
          "2018-03",
          "2018-04",
          "2018-05",
          "2018-06",
          "2018-07",
          "2018-08",
          "2018-09",
          "2018-10",
          "2018-11",
          "2018-12",
          "2019-01",
          "2019-02",
          "2019-03",
          "2019-04"
         ],
         "y": [
          210,
          593,
          712,
          910,
          891,
          669,
          652,
          1147,
          1122,
          969,
          1024,
          780,
          572,
          907,
          1020,
          766,
          934,
          580,
          994,
          1554,
          1564
         ]
        }
       ],
       "layout": {}
      },
      "text/html": [
       "<div>\n",
       "        \n",
       "        \n",
       "            <div id=\"7d688e3d-32f3-4905-a6ef-fb283f16db7d\" class=\"plotly-graph-div\" style=\"height:525px; width:100%;\"></div>\n",
       "            <script type=\"text/javascript\">\n",
       "                require([\"plotly\"], function(Plotly) {\n",
       "                    window.PLOTLYENV=window.PLOTLYENV || {};\n",
       "                    window.PLOTLYENV.BASE_URL='https://plot.ly';\n",
       "                    \n",
       "                if (document.getElementById(\"7d688e3d-32f3-4905-a6ef-fb283f16db7d\")) {\n",
       "                    Plotly.newPlot(\n",
       "                        '7d688e3d-32f3-4905-a6ef-fb283f16db7d',\n",
       "                        [{\"type\": \"scatter\", \"uid\": \"9a44d79f-c174-4d44-9a3b-c3fedf49ee2f\", \"x\": [\"2017-08\", \"2017-09\", \"2017-10\", \"2017-11\", \"2017-12\", \"2018-01\", \"2018-02\", \"2018-03\", \"2018-04\", \"2018-05\", \"2018-06\", \"2018-07\", \"2018-08\", \"2018-09\", \"2018-10\", \"2018-11\", \"2018-12\", \"2019-01\", \"2019-02\", \"2019-03\", \"2019-04\"], \"y\": [210, 593, 712, 910, 891, 669, 652, 1147, 1122, 969, 1024, 780, 572, 907, 1020, 766, 934, 580, 994, 1554, 1564]}],\n",
       "                        {},\n",
       "                        {\"showLink\": false, \"linkText\": \"Export to plot.ly\", \"plotlyServerURL\": \"https://plot.ly\", \"responsive\": true}\n",
       "                    ).then(function(){\n",
       "                            \n",
       "var gd = document.getElementById('7d688e3d-32f3-4905-a6ef-fb283f16db7d');\n",
       "var x = new MutationObserver(function (mutations, observer) {{\n",
       "        var display = window.getComputedStyle(gd).display;\n",
       "        if (!display || display === 'none') {{\n",
       "            console.log([gd, 'removed!']);\n",
       "            Plotly.purge(gd);\n",
       "            observer.disconnect();\n",
       "        }}\n",
       "}});\n",
       "\n",
       "// Listen for the removal of the full notebook cells\n",
       "var notebookContainer = gd.closest('#notebook-container');\n",
       "if (notebookContainer) {{\n",
       "    x.observe(notebookContainer, {childList: true});\n",
       "}}\n",
       "\n",
       "// Listen for the clearing of the current output cell\n",
       "var outputEl = gd.closest('.output');\n",
       "if (outputEl) {{\n",
       "    x.observe(outputEl, {childList: true});\n",
       "}}\n",
       "\n",
       "                        })\n",
       "                };\n",
       "                });\n",
       "            </script>\n",
       "        </div>"
      ]
     },
     "metadata": {},
     "output_type": "display_data"
    }
   ],
   "source": [
    "## Plot all data in dataset\n",
    "counts = defaultdict(int)\n",
    "for post in v1:\n",
    "    date = post.date\n",
    "    string = \"{}-{:02}\".format(date.year, date.month)\n",
    "    counts[string] += 1\n",
    "\n",
    "counts = list(counts.items())\n",
    "counts.sort(key=lambda c: c[0])\n",
    "data = [go.Scatter(x=[date for date, _ in counts], y=[count for _, count in counts])]\n",
    "\n",
    "iplot(data)"
   ]
  },
  {
   "cell_type": "code",
   "execution_count": 41,
   "metadata": {},
   "outputs": [
    {
     "name": "stdout",
     "output_type": "stream",
     "text": [
      "28 ['것', '보다', '아니다', '사람', '수업', '너', '나', '좋다', '교수', '않다', '분', '가다', '수', '시험', '내', '말', '그렇다', '알다', '때', '거']\n",
      "23 ['학점', '과목', '전공', '학기', '들다', '듣다', '졸업', '수강', '인정', '교수', '재수강', '전산', '전자', '수업', '수강신청', '시험', '학년', '성적', '영어', '받다']\n",
      "3 ['밤샘', '차리다', '밤새다', '공부', '버티다', '방법', '바짝', '정신', '섬뜩하다', '취약', '시험', '자다', '졸리', '체질', '저', '스탠드', '자지', '밤', '갈수', '보다']\n"
     ]
    }
   ],
   "source": [
    "## Find clusters containing these queries\n",
    "queries = ['시험']\n",
    "clusters = find_clusters(queries, tfidf)\n",
    "for cluster, keywords in clusters:\n",
    "    print(cluster, keywords)"
   ]
  },
  {
   "cell_type": "code",
   "execution_count": 47,
   "metadata": {},
   "outputs": [
    {
     "name": "stdout",
     "output_type": "stream",
     "text": [
      "28 13615 것 보다 아니다 사람 수업 너 나 좋다 교수 않다\n"
     ]
    },
    {
     "data": {
      "application/vnd.plotly.v1+json": {
       "config": {
        "linkText": "Export to plot.ly",
        "plotlyServerURL": "https://plot.ly",
        "showLink": false
       },
       "data": [
        {
         "type": "scatter",
         "uid": "272a650e-7c5a-4a5a-bf16-2675cd4b4b0c",
         "x": [
          "2017-8",
          "2017-9",
          "2017-10",
          "2017-11",
          "2017-12",
          "2018-1",
          "2018-2",
          "2018-3",
          "2018-4",
          "2018-5",
          "2018-6",
          "2018-7",
          "2018-8",
          "2018-9",
          "2018-10",
          "2018-11",
          "2018-12",
          "2019-1",
          "2019-2",
          "2019-3",
          "2019-4"
         ],
         "y": [
          143,
          430,
          541,
          675,
          644,
          395,
          429,
          823,
          922,
          689,
          776,
          465,
          379,
          651,
          807,
          638,
          747,
          367,
          636,
          1123,
          1335
         ]
        }
       ],
       "layout": {}
      },
      "text/html": [
       "<div>\n",
       "        \n",
       "        \n",
       "            <div id=\"6d98ecaa-e74a-468c-b398-728f830f3bc0\" class=\"plotly-graph-div\" style=\"height:525px; width:100%;\"></div>\n",
       "            <script type=\"text/javascript\">\n",
       "                require([\"plotly\"], function(Plotly) {\n",
       "                    window.PLOTLYENV=window.PLOTLYENV || {};\n",
       "                    window.PLOTLYENV.BASE_URL='https://plot.ly';\n",
       "                    \n",
       "                if (document.getElementById(\"6d98ecaa-e74a-468c-b398-728f830f3bc0\")) {\n",
       "                    Plotly.newPlot(\n",
       "                        '6d98ecaa-e74a-468c-b398-728f830f3bc0',\n",
       "                        [{\"type\": \"scatter\", \"uid\": \"272a650e-7c5a-4a5a-bf16-2675cd4b4b0c\", \"x\": [\"2017-8\", \"2017-9\", \"2017-10\", \"2017-11\", \"2017-12\", \"2018-1\", \"2018-2\", \"2018-3\", \"2018-4\", \"2018-5\", \"2018-6\", \"2018-7\", \"2018-8\", \"2018-9\", \"2018-10\", \"2018-11\", \"2018-12\", \"2019-1\", \"2019-2\", \"2019-3\", \"2019-4\"], \"y\": [143, 430, 541, 675, 644, 395, 429, 823, 922, 689, 776, 465, 379, 651, 807, 638, 747, 367, 636, 1123, 1335]}],\n",
       "                        {},\n",
       "                        {\"showLink\": false, \"linkText\": \"Export to plot.ly\", \"plotlyServerURL\": \"https://plot.ly\", \"responsive\": true}\n",
       "                    ).then(function(){\n",
       "                            \n",
       "var gd = document.getElementById('6d98ecaa-e74a-468c-b398-728f830f3bc0');\n",
       "var x = new MutationObserver(function (mutations, observer) {{\n",
       "        var display = window.getComputedStyle(gd).display;\n",
       "        if (!display || display === 'none') {{\n",
       "            console.log([gd, 'removed!']);\n",
       "            Plotly.purge(gd);\n",
       "            observer.disconnect();\n",
       "        }}\n",
       "}});\n",
       "\n",
       "// Listen for the removal of the full notebook cells\n",
       "var notebookContainer = gd.closest('#notebook-container');\n",
       "if (notebookContainer) {{\n",
       "    x.observe(notebookContainer, {childList: true});\n",
       "}}\n",
       "\n",
       "// Listen for the clearing of the current output cell\n",
       "var outputEl = gd.closest('.output');\n",
       "if (outputEl) {{\n",
       "    x.observe(outputEl, {childList: true});\n",
       "}}\n",
       "\n",
       "                        })\n",
       "                };\n",
       "                });\n",
       "            </script>\n",
       "        </div>"
      ]
     },
     "metadata": {},
     "output_type": "display_data"
    }
   ],
   "source": [
    "## Plot a cluster from the results above\n",
    "plot_time_series(28, tfidf, v1)"
   ]
  },
  {
   "cell_type": "code",
   "execution_count": null,
   "metadata": {},
   "outputs": [],
   "source": []
  }
 ],
 "metadata": {
  "kernelspec": {
   "display_name": "Python 3",
   "language": "python",
   "name": "python3"
  },
  "language_info": {
   "codemirror_mode": {
    "name": "ipython",
    "version": 3
   },
   "file_extension": ".py",
   "mimetype": "text/x-python",
   "name": "python",
   "nbconvert_exporter": "python",
   "pygments_lexer": "ipython3",
   "version": "3.6.8"
  }
 },
 "nbformat": 4,
 "nbformat_minor": 2
}
